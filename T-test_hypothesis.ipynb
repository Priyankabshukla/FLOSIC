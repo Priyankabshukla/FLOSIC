{
 "cells": [
  {
   "cell_type": "markdown",
   "metadata": {},
   "source": [
    "### Test null hypothesis if LSIC performs better than PZSIC for late TS\n",
    "My null hypothesis is LSIC PZSIC mean is the same"
   ]
  },
  {
   "cell_type": "code",
   "execution_count": 4,
   "metadata": {},
   "outputs": [
    {
     "name": "stdout",
     "output_type": "stream",
     "text": [
      "[ -0.27   9.37   6.45  13.86   4.56   9.94  -3.99 -12.4   -3.24  -2.23\n",
      " -13.69  -7.41  -7.09  -7.52]\n",
      "[12.8   4.52  0.42 10.58  0.69 -4.5  -1.1  -0.16  3.48  0.62 -0.04 -1.8\n",
      "  4.1  -0.9 ]\n",
      "-0.9757142857142861\n",
      "2.0507142857142857\n",
      "p-value: 0.26\n",
      "we accept null hypothesis\n"
     ]
    }
   ],
   "source": [
    "from scipy.stats import ttest_ind\n",
    "import numpy as np\n",
    "\n",
    "PZSIC_lateTS = np.loadtxt(\"pzsic-lateTS.txt\")\n",
    "LSIC_lateTS = np.loadtxt(\"lsic-lateTS.txt\")\n",
    "print(PZSIC_lateTS)\n",
    "# print(\"week2 data :-\\n\")\n",
    "print(LSIC_lateTS)\n",
    "\n",
    "pzsic_mean=np.mean(PZSIC_lateTS)\n",
    "print(pzsic_mean)\n",
    "\n",
    "lsic_mean=np.mean(LSIC_lateTS)\n",
    "print(lsic_mean)\n",
    "\n",
    "pzsic_std = np.std(PZSIC_lateTS)\n",
    "pzsic_std = np.std(LSIC_lateTS)\n",
    "# print\n",
    "# print(\"week1 std value:\",week1_std)\n",
    "# print(\"week2 std value:\",week2_std)\n",
    "ttest,pval = ttest_ind(PZSIC_lateTS,LSIC_lateTS,equal_var=False)\n",
    "print(f\"p-value: {pval:1.2}\")\n",
    "if pval <0.05:\n",
    "      print(\"we reject null hypothesis\")\n",
    "else:\n",
    "      print(\"we accept null hypothesis\")"
   ]
  },
  {
   "cell_type": "markdown",
   "metadata": {},
   "source": [
    "### Test Student's T-Test hypothesis for there is a correlation between success of the hypothesis and the error in the barrier "
   ]
  },
  {
   "cell_type": "markdown",
   "metadata": {},
   "source": [
    "* T-test = LSIC follow and doesn't follow = 0.14\n",
    "* PZSIC T-test follow and doesn't follow = 0.17"
   ]
  },
  {
   "cell_type": "code",
   "execution_count": 7,
   "metadata": {},
   "outputs": [
    {
     "name": "stdout",
     "output_type": "stream",
     "text": [
      "6.461272430923478\n",
      "7.254880186607149\n",
      "0.16\n",
      "we accept null hypothesis\n",
      "The difference happens by chance\n"
     ]
    }
   ],
   "source": [
    "pzsic_follow=np.loadtxt('pzsic-follow.txt')\n",
    "pzsic_fail = np.loadtxt('pzsic-fail.txt')\n",
    "pzsic_follow_mean=np.mean(pzsic_follow)\n",
    "pzsic_fail_mean=np.mean(pzsic_fail)\n",
    "print('mean')\n",
    "\n",
    "pzsic_follow_std=np.std(pzsic_follow)\n",
    "pzsic_fail_std=np.std(pzsic_fail)\n",
    "print(pzsic_follow_std)\n",
    "print(pzsic_fail_std)\n",
    "\n",
    "ttest1,pval1 = ttest_ind(pzsic_follow,pzsic_fail,equal_var=False)\n",
    "print(f'{pval1:1.2}')\n",
    "\n",
    "if pval <0.05:\n",
    "      print(\"we reject null hypothesis\")\n",
    "else:\n",
    "      print(\"we accept null hypothesis\")\n",
    "        \n",
    "ttest1\n",
    "print('The difference happens by chance')"
   ]
  },
  {
   "cell_type": "code",
   "execution_count": null,
   "metadata": {},
   "outputs": [],
   "source": []
  }
 ],
 "metadata": {
  "kernelspec": {
   "display_name": "Python 3.7",
   "language": "python",
   "name": "python3"
  },
  "language_info": {
   "codemirror_mode": {
    "name": "ipython",
    "version": 3
   },
   "file_extension": ".py",
   "mimetype": "text/x-python",
   "name": "python",
   "nbconvert_exporter": "python",
   "pygments_lexer": "ipython3",
   "version": "3.7.0"
  }
 },
 "nbformat": 4,
 "nbformat_minor": 4
}
