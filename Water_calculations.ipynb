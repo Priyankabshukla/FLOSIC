{
 "cells": [
  {
   "cell_type": "code",
   "execution_count": 1,
   "metadata": {},
   "outputs": [],
   "source": [
    "import numpy as np\n",
    "import os"
   ]
  },
  {
   "cell_type": "code",
   "execution_count": 44,
   "metadata": {},
   "outputs": [
    {
     "name": "stdout",
     "output_type": "stream",
     "text": [
      "/bgfs/kjohnson/pbs13/FLOSIC/Projects/Mark-new/ALL_FRAGMENTS/OPT_FODsresults_19-24\n",
      "/bgfs/kjohnson/pbs13/FLOSIC/Projects/Mark-new/ALL_FRAGMENTS/OPT_FODsresults_19-24\n",
      "/bgfs/kjohnson/pbs13/FLOSIC/Projects/Mark-new/ALL_FRAGMENTS/OPT_FODsresults_19-24\n",
      "/bgfs/kjohnson/pbs13/FLOSIC/Projects/Mark-new/ALL_FRAGMENTS/OPT_FODsresults_19-24\n",
      "/bgfs/kjohnson/pbs13/FLOSIC/Projects/Mark-new/ALL_FRAGMENTS/OPT_FODsresults_19-24\n",
      "/bgfs/kjohnson/pbs13/FLOSIC/Projects/Mark-new/ALL_FRAGMENTS/OPT_FODsresults_19-24\n"
     ]
    }
   ],
   "source": [
    "main_dir_path = '/bgfs/kjohnson/pbs13/FLOSIC/Projects/Mark-new/ALL_FRAGMENTS/'\n",
    "def func(folder):\n",
    "    \n",
    "    isExist = os.path.exists(main_dir_path) ##check if file exists\n",
    "    print(isExist)\n",
    "    os.chdir(main_dir_path)\n",
    "    Johnson_dir = main_dir_path+'/'+folder+'/'+'Johnson'\n",
    "    print(Johnson_dir)\n",
    "    isexist_Johnson = os.path.exists(Johnson_dir)\n",
    "    print(isexist_Johnson)\n",
    "    if not isexist_Johnson:\n",
    "        os.mkdir(Johnson_dir)\n",
    "    os.chdir(Johnson_dir)\n",
    "    os.system('cp /bgfs/kjohnson/pbs13/FLOSIC/Projects/BH76_hypothesis_DFT_test/job.slurm . ')\n",
    "    run_ini_check_file = Johnson_dir+'/'+'GEOCNVRG'  ### start nrlmol code first step\n",
    "    isExists_GEOCNVRG = os.path.exists(run_ini_check_file)\n",
    "    if not isExists_GEOCNVRG:\n",
    "        os.system('sbatch job.slurm')\n",
    "        \n",
    "    os.system('cp /bgfs/kjohnson/pbs13/FLOSIC/Projects/ForMark/ALL_FRAGMENTS/Karl/FRMGRP .')\n",
    "    os.system('cp /bgfs/kjohnson/pbs13/FLOSIC/Projects/ForMark/ALL_FRAGMENTS/Karl/FOD_OPT .')\n",
    "    os.system('cp /bgfs/kjohnson/pbs13/FLOSIC/Projects/ForMark/ALL_FRAGMENTS/Karl/GRPMAT .')\n",
    "    \n",
    "    isExists_RUNS=os.path.exists(Johnson_dir+'/'+'RUNS')\n",
    "    if isExists_RUNS: \n",
    "        os.system(f'cp {main_dir_path}/{folder}/* .')\n",
    "\n",
    "def store_results(folder):\n",
    "    os.chdir(main_dir_path)\n",
    "    Johnson_dir = main_dir_path+'/'+folder+'/'+'Johnson'\n",
    "    os.chdir('OPT_FODsresults_19-24')\n",
    "    !pwd\n",
    "    os.system(f'cp {Johnson_dir}/FRMIDT .')\n",
    "    os.rename('FRMIDT',f'FRMIDT_{folder}')\n",
    "    \n",
    "    \n",
    "    \n",
    "        \n",
    "        \n",
    "WSUB_dir=['WSUBDIR019','WSUBDIR020','WSUBDIR021','WSUBDIR022','WSUBDIR023','WSUBDIR024']\n",
    "\n",
    "for i in WSUB_dir:\n",
    "    store_results(i)\n",
    "\n"
   ]
  },
  {
   "cell_type": "code",
   "execution_count": null,
   "metadata": {},
   "outputs": [],
   "source": []
  }
 ],
 "metadata": {
  "kernelspec": {
   "display_name": "Python 3 (ipykernel)",
   "language": "python",
   "name": "python3"
  },
  "language_info": {
   "codemirror_mode": {
    "name": "ipython",
    "version": 3
   },
   "file_extension": ".py",
   "mimetype": "text/x-python",
   "name": "python",
   "nbconvert_exporter": "python",
   "pygments_lexer": "ipython3",
   "version": "3.9.12"
  }
 },
 "nbformat": 4,
 "nbformat_minor": 4
}
